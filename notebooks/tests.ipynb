{
 "cells": [
  {
   "cell_type": "code",
   "execution_count": 1,
   "id": "6fe09e14",
   "metadata": {},
   "outputs": [],
   "source": [
    "%load_ext autoreload\n",
    "%autoreload 2"
   ]
  },
  {
   "cell_type": "code",
   "execution_count": 2,
   "id": "74d64bea",
   "metadata": {},
   "outputs": [],
   "source": [
    "from terratorch.registry import BACKBONE_REGISTRY, DECODER_REGISTRY\n",
    "from terratorch.models import EncoderDecoderFactory\n",
    "from datamodules import BigEarthNetV2DataModule\n",
    "import torch\n",
    "\n",
    "import matplotlib.pyplot as plt"
   ]
  },
  {
   "cell_type": "code",
   "execution_count": 119,
   "id": "d60bd93d",
   "metadata": {},
   "outputs": [
    {
     "data": {
      "text/plain": [
       "<All keys matched successfully>"
      ]
     },
     "execution_count": 119,
     "metadata": {},
     "output_type": "execute_result"
    }
   ],
   "source": [
    "backbone = BACKBONE_REGISTRY.build(\n",
    "    \"timm_convnextv2_atto\",\n",
    "    pretrained=False,\n",
    "    in_chans=3\n",
    ")\n",
    "\n",
    "decoder = DECODER_REGISTRY.build(\n",
    "    \"UperNetDecoder\",\n",
    "    channels=128,\n",
    "    embed_dim=[40, 80, 160, 320],\n",
    ")\n",
    "\n",
    "model = EncoderDecoderFactory().build_model(\n",
    "    task=\"segmentation\",\n",
    "    backbone=backbone,\n",
    "    decoder=decoder,\n",
    "    num_classes=2,\n",
    "    head_channel_list=[128]\n",
    ")\n",
    "\n",
    "state_dict = torch.load(\"experiments/etci2021/version_20/checkpoints/epoch=99-step=4300.ckpt\")[\"state_dict\"]\n",
    "for key in list(state_dict.keys()):\n",
    "    if key.startswith(\"model.\"):\n",
    "        new_key = key.removeprefix(\"model.\")\n",
    "        state_dict[new_key] = state_dict.pop(key)\n",
    "\n",
    "model.load_state_dict(state_dict)"
   ]
  },
  {
   "cell_type": "code",
   "execution_count": 31,
   "id": "5cde5e66",
   "metadata": {},
   "outputs": [],
   "source": [
    "datamodule = BigEarthNetV2DataModule(\n",
    "    root=\"/share/projects/datasets/BigEarthNet/\",\n",
    "    batch_size=4,\n",
    "    num_workers=0)\n",
    "datamodule.setup(stage=\"fit\")"
   ]
  },
  {
   "cell_type": "code",
   "execution_count": 34,
   "id": "3cf8174e",
   "metadata": {},
   "outputs": [],
   "source": [
    "iterator = iter(datamodule.train_dataloader())"
   ]
  },
  {
   "cell_type": "code",
   "execution_count": 44,
   "id": "3b7c5694",
   "metadata": {},
   "outputs": [
    {
     "data": {
      "text/plain": [
       "tensor([[0, 0, 1, 1, 0, 1, 0, 1, 0, 0, 0, 0, 0, 1, 0, 0, 0, 0, 0],\n",
       "        [0, 0, 0, 0, 0, 0, 0, 0, 0, 0, 0, 0, 0, 0, 0, 0, 0, 0, 1],\n",
       "        [0, 0, 1, 0, 0, 1, 1, 0, 1, 1, 0, 0, 0, 1, 0, 0, 0, 0, 0],\n",
       "        [0, 0, 0, 0, 0, 0, 1, 0, 0, 1, 1, 0, 0, 0, 0, 0, 0, 1, 0]])"
      ]
     },
     "execution_count": 44,
     "metadata": {},
     "output_type": "execute_result"
    }
   ],
   "source": [
    "next(iterator)[\"label\"]"
   ]
  },
  {
   "cell_type": "code",
   "execution_count": 40,
   "id": "cc81d4a9",
   "metadata": {},
   "outputs": [
    {
     "data": {
      "text/plain": [
       "<matplotlib.image.AxesImage at 0x7fc496987650>"
      ]
     },
     "execution_count": 40,
     "metadata": {},
     "output_type": "execute_result"
    },
    {
     "data": {
      "image/png": "[encoded data removed]",
      "text/plain": [
       "<Figure size 640x480 with 1 Axes>"
      ]
     },
     "metadata": {},
     "output_type": "display_data"
    }
   ],
   "source": [
    "plt.imshow(next(iterator)[\"mask\"][1].squeeze().numpy(), cmap='gray')"
   ]
  },
  {
   "cell_type": "code",
   "execution_count": 132,
   "id": "46f667bc",
   "metadata": {},
   "outputs": [
    {
     "data": {
      "text/plain": [
       "<matplotlib.image.AxesImage at 0x7f6eb4588dd0>"
      ]
     },
     "execution_count": 132,
     "metadata": {},
     "output_type": "execute_result"
    },
    {
     "data": {
      "image/png": "[encoded data removed]",
      "text/plain": [
       "<Figure size 640x480 with 1 Axes>"
      ]
     },
     "metadata": {},
     "output_type": "display_data"
    }
   ],
   "source": [
    "plt.imshow(vh > vv, cmap='gray')"
   ]
  },
  {
   "cell_type": "code",
   "execution_count": null,
   "id": "bae3a8db",
   "metadata": {},
   "outputs": [],
   "source": []
  }
 ],
 "metadata": {
  "kernelspec": {
   "display_name": "venv",
   "language": "python",
   "name": "python3"
  },
  "language_info": {
   "codemirror_mode": {
    "name": "ipython",
    "version": 3
   },
   "file_extension": ".py",
   "mimetype": "text/x-python",
   "name": "python",
   "nbconvert_exporter": "python",
   "pygments_lexer": "ipython3",
   "version": "3.12.6"
  }
 },
 "nbformat": 4,
 "nbformat_minor": 5
}
